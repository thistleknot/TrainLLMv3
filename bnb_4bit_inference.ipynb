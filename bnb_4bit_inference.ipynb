{
 "cells": [
  {
   "cell_type": "code",
   "execution_count": 1,
   "id": "f91de3ed-d5d1-4c62-b54a-f5af04e54bef",
   "metadata": {},
   "outputs": [
    {
     "name": "stderr",
     "output_type": "stream",
     "text": [
      "/mnt/distvol/bitsandbytes/lib/python3.9/site-packages/tqdm/auto.py:21: TqdmWarning: IProgress not found. Please update jupyter and ipywidgets. See https://ipywidgets.readthedocs.io/en/stable/user_install.html\n",
      "  from .autonotebook import tqdm as notebook_tqdm\n",
      "2023-06-02 21:07:51.574984: W tensorflow/compiler/tf2tensorrt/utils/py_utils.cc:38] TF-TRT Warning: Could not find TensorRT\n"
     ]
    },
    {
     "name": "stdout",
     "output_type": "stream",
     "text": [
      "\n",
      "===================================BUG REPORT===================================\n",
      "Welcome to bitsandbytes. For bug reports, please run\n",
      "\n",
      "python -m bitsandbytes\n",
      "\n",
      " and submit this information together with your error trace to: https://github.com/TimDettmers/bitsandbytes/issues\n",
      "================================================================================\n",
      "bin /mnt/distvol/bitsandbytes/lib/python3.9/site-packages/bitsandbytes/libbitsandbytes_cuda115_nocublaslt.so\n",
      "CUDA_SETUP: WARNING! libcudart.so not found in any environmental path. Searching in backup paths...\n",
      "CUDA SETUP: CUDA runtime path found: /usr/local/cuda/lib64/libcudart.so.11.0\n",
      "CUDA SETUP: Highest compute capability among GPUs detected: 6.1\n",
      "CUDA SETUP: Detected CUDA version 115\n",
      "CUDA SETUP: Loading binary /mnt/distvol/bitsandbytes/lib/python3.9/site-packages/bitsandbytes/libbitsandbytes_cuda115_nocublaslt.so...\n"
     ]
    },
    {
     "name": "stderr",
     "output_type": "stream",
     "text": [
      "/mnt/distvol/bitsandbytes/lib/python3.9/site-packages/bitsandbytes/cuda_setup/main.py:149: UserWarning: WARNING: The following directories listed in your path were found to be non-existent: {PosixPath('-I/root')}\n",
      "  warn(msg)\n",
      "/mnt/distvol/bitsandbytes/lib/python3.9/site-packages/bitsandbytes/cuda_setup/main.py:149: UserWarning: WARNING: The following directories listed in your path were found to be non-existent: {PosixPath('2')}\n",
      "  warn(msg)\n",
      "/mnt/distvol/bitsandbytes/lib/python3.9/site-packages/bitsandbytes/cuda_setup/main.py:149: UserWarning: WARNING: The following directories listed in your path were found to be non-existent: {PosixPath('-L/root/boost_1_75_0/stage/lib')}\n",
      "  warn(msg)\n",
      "/mnt/distvol/bitsandbytes/lib/python3.9/site-packages/bitsandbytes/cuda_setup/main.py:149: UserWarning: WARNING: The following directories listed in your path were found to be non-existent: {PosixPath('/var/lib/snap')}\n",
      "  warn(msg)\n",
      "/mnt/distvol/bitsandbytes/lib/python3.9/site-packages/bitsandbytes/cuda_setup/main.py:149: UserWarning: WARNING: The following directories listed in your path were found to be non-existent: {PosixPath('st=\\\\EH'), PosixPath('\\\\\\n\\t'), PosixPath('F8=\\\\E[17;2~'), PosixPath('mi'), PosixPath('km'), PosixPath('kP=\\\\E[5~'), PosixPath('F4=\\\\E[1;2Q'), PosixPath('kl=\\\\EOD'), PosixPath('li#41'), PosixPath('RI=\\\\E[%dC'), PosixPath('k1=\\\\EOP'), PosixPath('FB=\\\\E[20;2~'), PosixPath('pf=\\\\E[4i'), PosixPath('cs=\\\\E[%i%d;%dr'), PosixPath('FD=\\\\E[23;2~'), PosixPath('le=^H'), PosixPath('k3=\\\\EOR'), PosixPath('sc=\\\\E7'), PosixPath('F7=\\\\E[15;2~'), PosixPath('dc=\\\\E[P'), PosixPath('AL=\\\\E[%dL'), PosixPath('md=\\\\E[1m'), PosixPath('kb=\\x7f'), PosixPath('FE=\\\\E[24;2~'), PosixPath('@1=\\\\E[1~'), PosixPath('F2=\\\\E[24~'), PosixPath('as=\\\\E(0'), PosixPath('Co#8'), PosixPath('ve=\\\\E[34h\\\\E[?25h'), PosixPath('*4=\\\\E[3;2~'), PosixPath('us=\\\\E[4m'), PosixPath('im=\\\\E[4h'), PosixPath('LP'), PosixPath('k2=\\\\EOQ'), PosixPath('it#8'), PosixPath('cm=\\\\E[%i%d;%dH'), PosixPath('se=\\\\E[23m'), PosixPath('ce=\\\\E[K'), PosixPath('pt'), PosixPath('me=\\\\E[m'), PosixPath('xn'), PosixPath('k9=\\\\E[20~'), PosixPath('%e=\\\\E[5;2~'), PosixPath('is=\\\\E)0'), PosixPath('SC|screen|VT 100/ANSI X3.64 virtual terminal'), PosixPath('#4=\\\\E[1;2D'), PosixPath('vi=\\\\E[?25l'), PosixPath('nd=\\\\E[C'), PosixPath('bt=\\\\E[Z'), PosixPath('bl=^G'), PosixPath('ae=\\\\E(B'), PosixPath('k;=\\\\E[21~'), PosixPath('up=\\\\EM'), PosixPath('@7=\\\\E[4~'), PosixPath('cd=\\\\E[J'), PosixPath('nw=\\\\EE'), PosixPath('G0'), PosixPath('ms'), PosixPath('kh=\\\\E[1~'), PosixPath('xv'), PosixPath('ho=\\\\E[H'), PosixPath('#2=\\\\E[1;2H'), PosixPath('te=\\\\E[?1049l'), PosixPath('IC=\\\\E[%d@'), PosixPath('k0=\\\\E[10~'), PosixPath('vs=\\\\E[34l'), PosixPath('kD=\\\\E[3~'), PosixPath('F5=\\\\E[1;2R'), PosixPath('so=\\\\E[3m'), PosixPath('K2=\\\\EOE'), PosixPath('mb=\\\\E[5m'), PosixPath('Km=\\\\E[M'), PosixPath('kF=\\\\E[1;2B'), PosixPath('ti=\\\\E[?1049h'), PosixPath('kH=\\\\E[4~'), PosixPath('FC=\\\\E[21;2~'), PosixPath('rs=\\\\Ec'), PosixPath('po=\\\\E[5i'), PosixPath('pa#64'), PosixPath('AX'), PosixPath('FA=\\\\E[19;2~'), PosixPath('op=\\\\E[39;49m'), PosixPath('DO=\\\\E[%dB'), PosixPath('ei=\\\\E[4l'), PosixPath('mr=\\\\E[7m'), PosixPath('AF=\\\\E[3%dm'), PosixPath('kI=\\\\E[2~'), PosixPath('am'), PosixPath('DC=\\\\E[%dP'), PosixPath('AB=\\\\E[4%dm'), PosixPath('LE=\\\\E[%dD'), PosixPath('k6=\\\\E[17~'), PosixPath('bs'), PosixPath('DL=\\\\E[%dM'), PosixPath('k7=\\\\E[18~'), PosixPath('kd=\\\\EOB'), PosixPath('ku=\\\\EOA'), PosixPath('kr=\\\\EOC'), PosixPath('kB=\\\\E[Z'), PosixPath('do=^J'), PosixPath('mh=\\\\E[2m'), PosixPath('%i=\\\\E[1;2C'), PosixPath('cr=^M'), PosixPath('F1=\\\\E[23~'), PosixPath('k4=\\\\EOS'), PosixPath('cl=\\\\E[H\\\\E[J'), PosixPath('ta=^I'), PosixPath('ue=\\\\E[24m'), PosixPath('%c=\\\\E[6;2~'), PosixPath('*7=\\\\E[1;2F'), PosixPath('F6=\\\\E[1;2S'), PosixPath('F3=\\\\E[1;2P'), PosixPath('co#155'), PosixPath('k5=\\\\E[15~'), PosixPath('ke=\\\\E[?1l\\\\E>'), PosixPath('dl=\\\\E[M'), PosixPath('ks=\\\\E[?1h\\\\E='), PosixPath('kN=\\\\E[6~'), PosixPath('sr=\\\\EM'), PosixPath('vb=\\\\Eg'), PosixPath('k8=\\\\E[19~'), PosixPath('ct=\\\\E[3g'), PosixPath('kR=\\\\E[1;2A'), PosixPath('UP=\\\\E[%dA'), PosixPath('#3=\\\\E[2;2~'), PosixPath('F9=\\\\E[18;2~'), PosixPath('rc=\\\\E8'), PosixPath('al=\\\\E[L'), PosixPath('ac=\\\\140\\\\140aaffggjjkkllmmnnooppqqrrssttuuvvwwxxyyzz{{||}}~~..--++,,hhII00')}\n",
      "  warn(msg)\n",
      "/mnt/distvol/bitsandbytes/lib/python3.9/site-packages/bitsandbytes/cuda_setup/main.py:149: UserWarning: WARNING: The following directories listed in your path were found to be non-existent: {PosixPath('() {  ( alias;\\n eval ${which_declare} ) | /usr/bin/which --tty-only --read-alias --read-functions --show-tilde --show-dot \"$@\"\\n}')}\n",
      "  warn(msg)\n",
      "/mnt/distvol/bitsandbytes/lib/python3.9/site-packages/bitsandbytes/cuda_setup/main.py:149: UserWarning: WARNING: The following directories listed in your path were found to be non-existent: {PosixPath('-}\" ]; then\\n set -$_mlshdbg;\\n fi;\\n unset _mlshdbg;\\n return $_mlstatus\\n}'), PosixPath('() {  unset _mlshdbg;\\n if [ \"${MODULES_SILENT_SHELL_DEBUG'), PosixPath(\"-}${_mlv}='`eval 'echo ${'$_mlrv'\"), PosixPath('-}\\'`\\' \";\\n fi;\\n done;\\n if [ -n \"${_mlre'), PosixPath('-};\\n do\\n if [ \"${_mlv}\" = \"${_mlv##*[!A-Za-z0-9_]}\" -a \"${_mlv}\" = \"${_mlv#[0-9]}\" ]; then\\n if [ -n \"`eval \\'echo ${\\'$_mlv\\'+x}\\'`\" ]; then\\n _mlre=\"${_mlre'), PosixPath('-0}\" = \\'1\\' ]; then\\n case \"$-\" in \\n *v*x*)\\n set +vx;\\n _mlshdbg=\\'vx\\'\\n ;;\\n *v*)\\n set +v;\\n _mlshdbg=\\'v\\'\\n ;;\\n *x*)\\n set +x;\\n _mlshdbg=\\'x\\'\\n ;;\\n *)\\n _mlshdbg=\\'\\'\\n ;;\\n esac;\\n fi;\\n unset _mlre _mlIFS;\\n if [ -n \"${IFS+x}\" ]; then\\n _mlIFS=$IFS;\\n fi;\\n IFS=\\' \\';\\n for _mlv in ${MODULES_RUN_QUARANTINE'), PosixPath('-}${_mlv}_modquar=\\'`eval \\'echo ${\\'$_mlv\\'}\\'`\\' \";\\n fi;\\n _mlrv=\"MODULES_RUNENV_${_mlv}\";\\n _mlre=\"${_mlre'), PosixPath('-}\" ]; then\\n eval `eval ${_mlre} /usr/bin/tclsh /usr/share/Modules/libexec/modulecmd.tcl bash \\'\"$@\"\\'`;\\n else\\n eval `/usr/bin/tclsh /usr/share/Modules/libexec/modulecmd.tcl bash \"$@\"`;\\n fi;\\n _mlstatus=$?;\\n if [ -n \"${_mlIFS+x}\" ]; then\\n IFS=$_mlIFS;\\n else\\n unset IFS;\\n fi;\\n unset _mlre _mlv _mlrv _mlIFS;\\n if [ -n \"${_mlshdbg')}\n",
      "  warn(msg)\n",
      "/mnt/distvol/bitsandbytes/lib/python3.9/site-packages/bitsandbytes/cuda_setup/main.py:149: UserWarning: WARNING: The following directories listed in your path were found to be non-existent: {PosixPath('-0}\" = \\'1\\' ]; then\\n typeset swname=\\'main\\';\\n if [ -e /usr/share/Modules/libexec/modulecmd.tcl ]; then\\n typeset swfound=0;\\n unset MODULES_USE_COMPAT_VERSION;\\n fi;\\n else\\n typeset swname=\\'compatibility\\';\\n if [ -e /usr/share/Modules/libexec/modulecmd-compat ]; then\\n typeset swfound=0;\\n MODULES_USE_COMPAT_VERSION=1;\\n export MODULES_USE_COMPAT_VERSION;\\n fi;\\n fi;\\n if [ $swfound -eq 0 ]; then\\n echo \"Switching to Modules $swname version\";\\n source /usr/share/Modules/init/bash;\\n else\\n echo \"Cannot switch to Modules $swname version, command not found\";\\n return 1;\\n fi\\n}'), PosixPath('() {  typeset swfound=1;\\n if [ \"${MODULES_USE_COMPAT_VERSION')}\n",
      "  warn(msg)\n",
      "/mnt/distvol/bitsandbytes/lib/python3.9/site-packages/bitsandbytes/cuda_setup/main.py:149: UserWarning: WARNING: The following directories listed in your path were found to be non-existent: {PosixPath('module'), PosixPath('//matplotlib_inline.backend_inline')}\n",
      "  warn(msg)\n",
      "/mnt/distvol/bitsandbytes/lib/python3.9/site-packages/bitsandbytes/cuda_setup/main.py:149: UserWarning: Found duplicate ['libcudart.so', 'libcudart.so.11.0', 'libcudart.so.12.0'] files: {PosixPath('/usr/local/cuda/lib64/libcudart.so.11.0'), PosixPath('/usr/local/cuda/lib64/libcudart.so')}.. We'll flip a coin and try one of these, in order to fail forward.\n",
      "Either way, this might cause trouble in the future:\n",
      "If you get `CUDA error: invalid device function` errors, the above might be the cause and the solution is to make sure only one ['libcudart.so', 'libcudart.so.11.0', 'libcudart.so.12.0'] in the paths that we search based on your env.\n",
      "  warn(msg)\n",
      "/mnt/distvol/bitsandbytes/lib/python3.9/site-packages/bitsandbytes/cuda_setup/main.py:149: UserWarning: WARNING: Compute capability < 7.5 detected! Only slow 8-bit matmul is supported for your GPU!\n",
      "  warn(msg)\n"
     ]
    }
   ],
   "source": [
    "from common_imports import *\n",
    "from functions import (\n",
    "    create_subset,\n",
    "    filter_datasets_for_use_case,\n",
    "    split_datasets,\n",
    "    unique_elements,\n",
    "    PerplexityLoggingCallback,\n",
    "    print_trainable_parameters,\n",
    "    CustomDataset,\n",
    "    get_sequences,\n",
    "    evaluate,\n",
    "    CustomTrainer\n",
    ")"
   ]
  },
  {
   "cell_type": "code",
   "execution_count": null,
   "id": "517260a2-a489-4118-b7cc-f98b35fa8454",
   "metadata": {},
   "outputs": [],
   "source": []
  },
  {
   "cell_type": "code",
   "execution_count": 2,
   "id": "53ed5da9-cff8-4ae8-b27f-16df0a16cb81",
   "metadata": {},
   "outputs": [],
   "source": [
    "device = torch.device(\"cuda\" if torch.cuda.is_available() else \"cpu\")\n",
    "\n",
    "with open(\"resources/train.json\", \"r\") as f:\n",
    "    args = json.load(f)\n",
    "\n",
    "bnb_config = BitsAndBytesConfig(\n",
    "    load_in_4bit=args[\"load_in_4bit\"],\n",
    "    bnb_4bit_use_double_quant=args[\"bnb_4bit_use_double_quant\"],\n",
    "    bnb_4bit_quant_type=args[\"bnb_4bit_quant_type\"],\n",
    "    bnb_4bit_compute_dtype=eval(args[\"bnb_4bit_compute_dtype\"])\n",
    ")\n",
    "\n",
    "lora_config = LoraConfig(\n",
    "    r=args[\"lora_r\"],\n",
    "    lora_alpha=args[\"lora_alpha\"],\n",
    "    lora_dropout=args[\"lora_dropout\"],\n",
    "    bias=args[\"lora_bias\"],\n",
    "    task_type=args[\"lora_task_type\"]\n",
    ")\n",
    "\n",
    "device_map = {\"\": 0}\n"
   ]
  },
  {
   "cell_type": "code",
   "execution_count": null,
   "id": "7a6ccb77-b3dd-4533-9fa8-a0e298877b34",
   "metadata": {},
   "outputs": [],
   "source": []
  },
  {
   "cell_type": "code",
   "execution_count": 12,
   "id": "eb5966da-98d0-4321-bff0-923509d368cc",
   "metadata": {},
   "outputs": [
    {
     "name": "stdout",
     "output_type": "stream",
     "text": [
      "trainable params: 294912 || all params: 83026176 || trainable%: 0.3552036408373186\n"
     ]
    }
   ],
   "source": [
    "infer_peft_config = PeftConfig.from_pretrained('bitsft')\n",
    "\n",
    "infer_model = AutoModelForCausalLM.from_pretrained(\n",
    "        infer_peft_config.base_model_name_or_path,\n",
    "        quantization_config=bnb_config, device_map=device_map\n",
    ")\n",
    "\n",
    "#enabling raises memory requirements, but much faster inference\n",
    "infer_model.gradient_checkpointing_enable()\n",
    "infer_model = prepare_model_for_kbit_training(infer_model)\n",
    "infer_model = get_peft_model(infer_model, lora_config)\n",
    "print_trainable_parameters(infer_model)\n",
    "#only necessary when use with the above\n",
    "infer_model.model.config.use_cache = True\n"
   ]
  },
  {
   "cell_type": "code",
   "execution_count": null,
   "id": "ddc84f45-1abd-4420-bf01-6772f005f14b",
   "metadata": {},
   "outputs": [],
   "source": []
  },
  {
   "cell_type": "code",
   "execution_count": 13,
   "id": "6a63ffa0-9ff9-4813-8951-9d08fbc44a64",
   "metadata": {},
   "outputs": [],
   "source": [
    "tokenizer = AutoTokenizer.from_pretrained(args['model_id'])\n",
    "tokenizer.pad_token = tokenizer.eos_token\n"
   ]
  },
  {
   "cell_type": "code",
   "execution_count": 15,
   "id": "db5bedc9-874b-449b-9813-246684e77b8e",
   "metadata": {},
   "outputs": [
    {
     "name": "stderr",
     "output_type": "stream",
     "text": [
      "The model 'PeftModelForCausalLM' is not supported for text-generation. Supported models are ['BartForCausalLM', 'BertLMHeadModel', 'BertGenerationDecoder', 'BigBirdForCausalLM', 'BigBirdPegasusForCausalLM', 'BioGptForCausalLM', 'BlenderbotForCausalLM', 'BlenderbotSmallForCausalLM', 'BloomForCausalLM', 'CamembertForCausalLM', 'CodeGenForCausalLM', 'CpmAntForCausalLM', 'CTRLLMHeadModel', 'Data2VecTextForCausalLM', 'ElectraForCausalLM', 'ErnieForCausalLM', 'GitForCausalLM', 'GPT2LMHeadModel', 'GPT2LMHeadModel', 'GPTBigCodeForCausalLM', 'GPTNeoForCausalLM', 'GPTNeoXForCausalLM', 'GPTNeoXJapaneseForCausalLM', 'GPTJForCausalLM', 'LlamaForCausalLM', 'MarianForCausalLM', 'MBartForCausalLM', 'MegaForCausalLM', 'MegatronBertForCausalLM', 'MvpForCausalLM', 'OpenLlamaForCausalLM', 'OpenAIGPTLMHeadModel', 'OPTForCausalLM', 'PegasusForCausalLM', 'PLBartForCausalLM', 'ProphetNetForCausalLM', 'QDQBertLMHeadModel', 'ReformerModelWithLMHead', 'RemBertForCausalLM', 'RobertaForCausalLM', 'RobertaPreLayerNormForCausalLM', 'RoCBertForCausalLM', 'RoFormerForCausalLM', 'RwkvForCausalLM', 'Speech2Text2ForCausalLM', 'TransfoXLLMHeadModel', 'TrOCRForCausalLM', 'XGLMForCausalLM', 'XLMWithLMHeadModel', 'XLMProphetNetForCausalLM', 'XLMRobertaForCausalLM', 'XLMRobertaXLForCausalLM', 'XLNetLMHeadModel', 'XmodForCausalLM'].\n",
      "Setting `pad_token_id` to `eos_token_id`:50256 for open-end generation.\n"
     ]
    },
    {
     "name": "stdout",
     "output_type": "stream",
     "text": [
      "Context:\n",
      "Life can be difficult, yet rewarding.\n",
      "Prompt:\n",
      "What meaning can be found in life?\n",
      "Response:\n",
      "+\n",
      "| The only way this was just fine. \\.\n",
      " \n",
      ".Jacket: ..........................\n",
      "\n",
      "Thank you, .Please note. In case, they used this. After. Thank you......!!! As I, I am on the web. Now I will see some other iphone app. Or, on its time. But, before, in all the following, it is very little. And, the like. All at once\n"
     ]
    }
   ],
   "source": [
    "\n",
    "query_text = (\n",
    "    \"Context:\\n\"\n",
    "    \"Life can be difficult, yet rewarding.\\n\"\n",
    "    \"Prompt:\\n\"\n",
    "    \"What meaning can be found in life?\\n\"\n",
    "    \"Response:\\n\"\n",
    ")\n",
    "#attention_mask = torch.ones_like(input_ids)\n",
    "generator = pipeline('text-generation', model=infer_model, tokenizer = tokenizer,\n",
    "    min_length=50,\n",
    "    max_length=128,\n",
    "    temperature=1,\n",
    "    #attention_mask=attention_mask,\n",
    "    do_sample=True,\n",
    "    top_k=50,\n",
    "    top_p=1,\n",
    "    num_return_sequences=1,\n",
    "    no_repeat_ngram_size=2,\n",
    "    num_beams=1,\n",
    "    early_stopping=True)\n",
    "\n",
    "results = generator(query_text)\n",
    "print(results[0]['generated_text'])"
   ]
  },
  {
   "cell_type": "code",
   "execution_count": null,
   "id": "58e74c2a-d871-401e-ab6e-90704796126e",
   "metadata": {},
   "outputs": [],
   "source": []
  }
 ],
 "metadata": {
  "kernelspec": {
   "display_name": "Python 3 (ipykernel)",
   "language": "python",
   "name": "python3"
  },
  "language_info": {
   "codemirror_mode": {
    "name": "ipython",
    "version": 3
   },
   "file_extension": ".py",
   "mimetype": "text/x-python",
   "name": "python",
   "nbconvert_exporter": "python",
   "pygments_lexer": "ipython3",
   "version": "3.9.9"
  }
 },
 "nbformat": 4,
 "nbformat_minor": 5
}
